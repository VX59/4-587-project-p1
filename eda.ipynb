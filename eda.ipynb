{
 "cells": [
  {
   "cell_type": "code",
   "execution_count": 4,
   "metadata": {},
   "outputs": [],
   "source": [
    "import pandas as pd \n",
    "\n",
    "# columns correspond to unitigs so we must transpose this table\n",
    "def load_unitig_data(path) -> pd.DataFrame:\n",
    "    sr = pd.read_csv(path, sep=' ')\n",
    "    sr.set_index('pattern_id',inplace=True)\n",
    "    return sr.T[1:]\n",
    "\n",
    "azm_sr = load_unitig_data(\"azm_sr_gwas_filtered_unitigs.Rtab\")\n",
    "cfx_sr = load_unitig_data(\"cfx_sr_gwas_filtered_unitigs.Rtab\")\n",
    "cip_sr = load_unitig_data(\"cip_sr_gwas_filtered_unitigs.Rtab\")\n",
    "\n",
    "metadata = pd.read_csv('metadata.csv')\n",
    "metadata.set_index('Sample_ID',inplace=True)\n"
   ]
  },
  {
   "cell_type": "code",
   "execution_count": 5,
   "metadata": {},
   "outputs": [
    {
     "name": "stdout",
     "output_type": "stream",
     "text": [
      "0.199418911780243 % of samples have resistance to azm\n",
      "0.10301109350237718 % of samples have resistance to cfx\n",
      "0.5615425250924458 % of samples have resistance to cip\n"
     ]
    }
   ],
   "source": [
    "j=[0,0,0]\n",
    "samples = metadata.index\n",
    "for sample in samples:\n",
    "    if metadata['azm_sr'][sample]:\n",
    "        j[0] +=1\n",
    "    if metadata['cfx_sr'][sample]:\n",
    "        j[1] +=1\n",
    "    if metadata['cip_sr'][sample]:\n",
    "        j[2] +=1\n",
    "\n",
    "print(j[0]/len(samples), \"% of samples have resistance to azm\")\n",
    "print(j[1]/len(samples), \"% of samples have resistance to cfx\")\n",
    "print(j[2]/len(samples), \"% of samples have resistance to cip\")\n"
   ]
  },
  {
   "cell_type": "code",
   "execution_count": 24,
   "metadata": {},
   "outputs": [
    {
     "ename": "IndexError",
     "evalue": "index 554 is out of bounds for axis 0 with size 515",
     "output_type": "error",
     "traceback": [
      "\u001b[0;31m---------------------------------------------------------------------------\u001b[0m",
      "\u001b[0;31mIndexError\u001b[0m                                Traceback (most recent call last)",
      "Cell \u001b[0;32mIn[24], line 6\u001b[0m\n\u001b[1;32m      3\u001b[0m \u001b[38;5;66;03m# some random unitig from azm_sr\u001b[39;00m\n\u001b[1;32m      5\u001b[0m \u001b[38;5;28;01mfrom\u001b[39;00m \u001b[38;5;21;01mrandom\u001b[39;00m \u001b[38;5;28;01mimport\u001b[39;00m randint\n\u001b[0;32m----> 6\u001b[0m randomUnitig \u001b[38;5;241m=\u001b[39m \u001b[43mazm_sr\u001b[49m\u001b[38;5;241;43m.\u001b[39;49m\u001b[43mcolumns\u001b[49m\u001b[43m[\u001b[49m\u001b[43mrandint\u001b[49m\u001b[43m(\u001b[49m\u001b[38;5;241;43m0\u001b[39;49m\u001b[43m,\u001b[49m\u001b[43mazm_sr\u001b[49m\u001b[38;5;241;43m.\u001b[39;49m\u001b[43mshape\u001b[49m\u001b[43m[\u001b[49m\u001b[38;5;241;43m0\u001b[39;49m\u001b[43m]\u001b[49m\u001b[43m)\u001b[49m\u001b[43m]\u001b[49m\n\u001b[1;32m      7\u001b[0m j \u001b[38;5;241m=\u001b[39m \u001b[38;5;241m0\u001b[39m\n\u001b[1;32m      8\u001b[0m \u001b[38;5;28mprint\u001b[39m(azm_sr\u001b[38;5;241m.\u001b[39mshape)\n",
      "File \u001b[0;32m~/.conda/envs/cse487-proj/lib/python3.12/site-packages/pandas/core/indexes/base.py:5389\u001b[0m, in \u001b[0;36mIndex.__getitem__\u001b[0;34m(self, key)\u001b[0m\n\u001b[1;32m   5386\u001b[0m \u001b[38;5;28;01mif\u001b[39;00m is_integer(key) \u001b[38;5;129;01mor\u001b[39;00m is_float(key):\n\u001b[1;32m   5387\u001b[0m     \u001b[38;5;66;03m# GH#44051 exclude bool, which would return a 2d ndarray\u001b[39;00m\n\u001b[1;32m   5388\u001b[0m     key \u001b[38;5;241m=\u001b[39m com\u001b[38;5;241m.\u001b[39mcast_scalar_indexer(key)\n\u001b[0;32m-> 5389\u001b[0m     \u001b[38;5;28;01mreturn\u001b[39;00m \u001b[43mgetitem\u001b[49m\u001b[43m(\u001b[49m\u001b[43mkey\u001b[49m\u001b[43m)\u001b[49m\n\u001b[1;32m   5391\u001b[0m \u001b[38;5;28;01mif\u001b[39;00m \u001b[38;5;28misinstance\u001b[39m(key, \u001b[38;5;28mslice\u001b[39m):\n\u001b[1;32m   5392\u001b[0m     \u001b[38;5;66;03m# This case is separated from the conditional above to avoid\u001b[39;00m\n\u001b[1;32m   5393\u001b[0m     \u001b[38;5;66;03m# pessimization com.is_bool_indexer and ndim checks.\u001b[39;00m\n\u001b[1;32m   5394\u001b[0m     \u001b[38;5;28;01mreturn\u001b[39;00m \u001b[38;5;28mself\u001b[39m\u001b[38;5;241m.\u001b[39m_getitem_slice(key)\n",
      "\u001b[0;31mIndexError\u001b[0m: index 554 is out of bounds for axis 0 with size 515"
     ]
    }
   ],
   "source": [
    "samples = azm_sr.index\n",
    "\n",
    "# some random unitig from azm_sr\n",
    "\n",
    "from random import randint\n",
    "randomUnitig = azm_sr.columns[randint(0,azm_sr.shape[1])]\n",
    "j = 0\n",
    "print(azm_sr.shape)\n",
    "for i in range(azm_sr.shape[0]):\n",
    "    if azm_sr[randomUnitig][samples[i]]:\n",
    "        j += 1\n",
    "\n",
    "print(randomUnitig,\"\\npresent in\", j/azm_sr.shape[0],\"% of azm_sr samples (\",j,\"/\",azm_sr.shape[0],')' )"
   ]
  }
 ],
 "metadata": {
  "kernelspec": {
   "display_name": "cse487-proj",
   "language": "python",
   "name": "python3"
  },
  "language_info": {
   "codemirror_mode": {
    "name": "ipython",
    "version": 3
   },
   "file_extension": ".py",
   "mimetype": "text/x-python",
   "name": "python",
   "nbconvert_exporter": "python",
   "pygments_lexer": "ipython3",
   "version": "3.12.5"
  }
 },
 "nbformat": 4,
 "nbformat_minor": 2
}

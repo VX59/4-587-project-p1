{
 "cells": [
  {
   "cell_type": "code",
   "execution_count": 303,
   "metadata": {},
   "outputs": [],
   "source": [
    "import pandas as pd \n",
    "\n",
    "# columns correspond to unitigs so we must transpose this table\n",
    "def load_unitig_data(path) -> pd.DataFrame:\n",
    "    sr = pd.read_csv(path, sep=' ')\n",
    "    sr.set_index('pattern_id',inplace=True)\n",
    "    return sr.T[1:]\n",
    "\n",
    "azm_sr = load_unitig_data(\"azm_sr_gwas_filtered_unitigs.Rtab\")\n",
    "cfx_sr = load_unitig_data(\"cfx_sr_gwas_filtered_unitigs.Rtab\")\n",
    "cip_sr = load_unitig_data(\"cip_sr_gwas_filtered_unitigs.Rtab\")\n",
    "\n",
    "metadata = pd.read_csv('metadata.csv')\n",
    "metadata.set_index('Sample_ID',inplace=True)\n"
   ]
  },
  {
   "cell_type": "code",
   "execution_count": 307,
   "metadata": {},
   "outputs": [
    {
     "name": "stdout",
     "output_type": "stream",
     "text": [
      "0.199418911780243 % of samples have resistance to azm\n",
      "0.10301109350237718 % of samples have resistance to cfx\n",
      "0.5615425250924458 % of samples have resistance to cip\n"
     ]
    }
   ],
   "source": [
    "j=[0,0,0]\n",
    "samples = metadata.index\n",
    "for sample in samples:\n",
    "    if metadata['azm_sr'][sample]:\n",
    "        j[0] +=1\n",
    "    if metadata['cfx_sr'][sample]:\n",
    "        j[1] +=1\n",
    "    if metadata['cip_sr'][sample]:\n",
    "        j[2] +=1\n",
    "\n",
    "print(j[0]/len(samples), \"% of samples have resistance to azm\")\n",
    "print(j[1]/len(samples), \"% of samples have resistance to cfx\")\n",
    "print(j[2]/len(samples), \"% of samples have resistance to cip\")\n"
   ]
  },
  {
   "cell_type": "code",
   "execution_count": 308,
   "metadata": {},
   "outputs": [
    {
     "name": "stdout",
     "output_type": "stream",
     "text": [
      "CGGTACGATTGACTGAAATAGCATTTATCGCG \n",
      "present in 0.062135922330097085 % of samples ( 32 / 515 )\n"
     ]
    }
   ],
   "source": [
    "samples = azm_sr.index\n",
    "\n",
    "# some random unitig from azm_sr\n",
    "azm_cols = set(azm_sr.columns)\n",
    "cfx_cols = set(cfx_sr.columns)\n",
    "cip_cols = set(cip_sr.columns)\n",
    "\n",
    "unique_unitigs = list(azm_cols)\n",
    "from random import randint\n",
    "randomUnitig = unique_unitigs[randint(0,len(unique_unitigs))]\n",
    "j = 0\n",
    "for i in range(len(randomUnitig)):\n",
    "    if azm_sr[randomUnitig][samples[i]]:\n",
    "        j += 1\n",
    "\n",
    "print(randomUnitig,\"\\npresent in\", j/len(azm_cols),\"% of azm_sr samples (\",j,\"/\",len(azm_cols),')' )"
   ]
  }
 ],
 "metadata": {
  "kernelspec": {
   "display_name": "cse487-proj",
   "language": "python",
   "name": "python3"
  },
  "language_info": {
   "codemirror_mode": {
    "name": "ipython",
    "version": 3
   },
   "file_extension": ".py",
   "mimetype": "text/x-python",
   "name": "python",
   "nbconvert_exporter": "python",
   "pygments_lexer": "ipython3",
   "version": "3.12.5"
  }
 },
 "nbformat": 4,
 "nbformat_minor": 2
}

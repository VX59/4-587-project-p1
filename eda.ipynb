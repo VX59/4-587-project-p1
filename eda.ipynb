{
 "cells": [
  {
   "cell_type": "markdown",
   "metadata": {},
   "source": [
    "# Load Data"
   ]
  },
  {
   "cell_type": "code",
   "execution_count": 10,
   "metadata": {},
   "outputs": [],
   "source": [
    "import pandas as pd \n",
    "\n",
    "# columns correspond to unitigs so we must transpose this table\n",
    "def load_unitig_data(path) -> pd.DataFrame:\n",
    "    sr = pd.read_csv(path, sep=' ')\n",
    "    sr.set_index('pattern_id',inplace=True)\n",
    "    return sr.T[1:]\n",
    "\n",
    "azm_sr = load_unitig_data(\"azm_sr_gwas_filtered_unitigs.Rtab\")\n",
    "cfx_sr = load_unitig_data(\"cfx_sr_gwas_filtered_unitigs.Rtab\")\n",
    "cip_sr = load_unitig_data(\"cip_sr_gwas_filtered_unitigs.Rtab\")\n",
    "\n",
    "metadata = pd.read_csv('metadata.csv')\n",
    "metadata.set_index('Sample_ID',inplace=True)\n"
   ]
  },
  {
   "cell_type": "markdown",
   "metadata": {},
   "source": [
    "### Visualization before cleaning"
   ]
  },
  {
   "cell_type": "code",
   "execution_count": 12,
   "metadata": {},
   "outputs": [
    {
     "name": "stdout",
     "output_type": "stream",
     "text": [
      "<class 'pandas.core.frame.DataFrame'>\n",
      "Index: 3786 entries, ERR1549286 to ERR2172354\n",
      "Data columns (total 30 columns):\n",
      " #   Column          Non-Null Count  Dtype  \n",
      "---  ------          --------------  -----  \n",
      " 0   Year            3536 non-null   float64\n",
      " 1   Country         3785 non-null   object \n",
      " 2   Continent       3785 non-null   object \n",
      " 3   Beta.lactamase  1927 non-null   object \n",
      " 4   Azithromycin    3480 non-null   object \n",
      " 5   Ciprofloxacin   3129 non-null   object \n",
      " 6   Ceftriaxone     3436 non-null   object \n",
      " 7   Cefixime        3405 non-null   object \n",
      " 8   Tetracycline    1472 non-null   object \n",
      " 9   Penicillin      1465 non-null   object \n",
      " 10  NG_MAST         3779 non-null   object \n",
      " 11  Group           3786 non-null   int64  \n",
      " 12  azm_mic         3478 non-null   float64\n",
      " 13  cip_mic         3088 non-null   float64\n",
      " 14  cro_mic         3434 non-null   float64\n",
      " 15  cfx_mic         3401 non-null   float64\n",
      " 16  tet_mic         1472 non-null   float64\n",
      " 17  pen_mic         1465 non-null   float64\n",
      " 18  log2_azm_mic    3478 non-null   float64\n",
      " 19  log2_cip_mic    3088 non-null   float64\n",
      " 20  log2_cro_mic    3434 non-null   float64\n",
      " 21  log2_cfx_mic    3401 non-null   float64\n",
      " 22  log2_tet_mic    1472 non-null   float64\n",
      " 23  log2_pen_mic    1465 non-null   float64\n",
      " 24  azm_sr          3478 non-null   float64\n",
      " 25  cip_sr          3088 non-null   float64\n",
      " 26  cro_sr          3434 non-null   float64\n",
      " 27  cfx_sr          3401 non-null   float64\n",
      " 28  tet_sr          1472 non-null   float64\n",
      " 29  pen_sr          1465 non-null   float64\n",
      "dtypes: float64(19), int64(1), object(10)\n",
      "memory usage: 916.9+ KB\n"
     ]
    }
   ],
   "source": [
    "metadata.info()"
   ]
  },
  {
   "cell_type": "markdown",
   "metadata": {},
   "source": [
    "### Null/NA Cleaning\n",
    "\n",
    "If I remove all rows with nulls, then we drop down to ~1k entries. Not ideal. I will remove only the nulls in the target labels. By doing that I was able to preserve ~2800 entries"
   ]
  },
  {
   "cell_type": "code",
   "execution_count": 13,
   "metadata": {},
   "outputs": [],
   "source": [
    "metadata.dropna(axis=0, how='any', inplace=True, subset=['azm_sr', 'cfx_sr', 'cip_sr'])"
   ]
  },
  {
   "cell_type": "markdown",
   "metadata": {},
   "source": [
    "### Visualization after Null Cleaning."
   ]
  },
  {
   "cell_type": "code",
   "execution_count": 14,
   "metadata": {},
   "outputs": [
    {
     "name": "stdout",
     "output_type": "stream",
     "text": [
      "<class 'pandas.core.frame.DataFrame'>\n",
      "Index: 2814 entries, SRR1661154 to SRR5827370\n",
      "Data columns (total 30 columns):\n",
      " #   Column          Non-Null Count  Dtype  \n",
      "---  ------          --------------  -----  \n",
      " 0   Year            2768 non-null   float64\n",
      " 1   Country         2813 non-null   object \n",
      " 2   Continent       2813 non-null   object \n",
      " 3   Beta.lactamase  1865 non-null   object \n",
      " 4   Azithromycin    2814 non-null   object \n",
      " 5   Ciprofloxacin   2814 non-null   object \n",
      " 6   Ceftriaxone     2769 non-null   object \n",
      " 7   Cefixime        2814 non-null   object \n",
      " 8   Tetracycline    1266 non-null   object \n",
      " 9   Penicillin      1264 non-null   object \n",
      " 10  NG_MAST         2814 non-null   object \n",
      " 11  Group           2814 non-null   int64  \n",
      " 12  azm_mic         2814 non-null   float64\n",
      " 13  cip_mic         2814 non-null   float64\n",
      " 14  cro_mic         2769 non-null   float64\n",
      " 15  cfx_mic         2814 non-null   float64\n",
      " 16  tet_mic         1266 non-null   float64\n",
      " 17  pen_mic         1264 non-null   float64\n",
      " 18  log2_azm_mic    2814 non-null   float64\n",
      " 19  log2_cip_mic    2814 non-null   float64\n",
      " 20  log2_cro_mic    2769 non-null   float64\n",
      " 21  log2_cfx_mic    2814 non-null   float64\n",
      " 22  log2_tet_mic    1266 non-null   float64\n",
      " 23  log2_pen_mic    1264 non-null   float64\n",
      " 24  azm_sr          2814 non-null   float64\n",
      " 25  cip_sr          2814 non-null   float64\n",
      " 26  cro_sr          2769 non-null   float64\n",
      " 27  cfx_sr          2814 non-null   float64\n",
      " 28  tet_sr          1266 non-null   float64\n",
      " 29  pen_sr          1264 non-null   float64\n",
      "dtypes: float64(19), int64(1), object(10)\n",
      "memory usage: 681.5+ KB\n"
     ]
    }
   ],
   "source": [
    "metadata.info()"
   ]
  },
  {
   "cell_type": "markdown",
   "metadata": {},
   "source": [
    "### Data Stats"
   ]
  },
  {
   "cell_type": "code",
   "execution_count": 7,
   "metadata": {},
   "outputs": [
    {
     "name": "stdout",
     "output_type": "stream",
     "text": [
      "0.031161473087818695 % of samples have resistance to azm\n",
      "0.003777148253068933 % of samples have resistance to cfx\n",
      "0.4173748819641171 % of samples have resistance to cip\n"
     ]
    }
   ],
   "source": [
    "j=[0,0,0]\n",
    "samples = metadata.index\n",
    "for sample in samples:\n",
    "    if metadata['azm_sr'][sample]:\n",
    "        j[0] +=1\n",
    "    if metadata['cfx_sr'][sample]:\n",
    "        j[1] +=1\n",
    "    if metadata['cip_sr'][sample]:\n",
    "        j[2] +=1\n",
    "\n",
    "print(j[0]/len(samples), \"% of samples have resistance to azm\")\n",
    "print(j[1]/len(samples), \"% of samples have resistance to cfx\")\n",
    "print(j[2]/len(samples), \"% of samples have resistance to cip\")\n"
   ]
  },
  {
   "cell_type": "code",
   "execution_count": 24,
   "metadata": {},
   "outputs": [
    {
     "ename": "IndexError",
     "evalue": "index 554 is out of bounds for axis 0 with size 515",
     "output_type": "error",
     "traceback": [
      "\u001b[0;31m---------------------------------------------------------------------------\u001b[0m",
      "\u001b[0;31mIndexError\u001b[0m                                Traceback (most recent call last)",
      "Cell \u001b[0;32mIn[24], line 6\u001b[0m\n\u001b[1;32m      3\u001b[0m \u001b[38;5;66;03m# some random unitig from azm_sr\u001b[39;00m\n\u001b[1;32m      5\u001b[0m \u001b[38;5;28;01mfrom\u001b[39;00m \u001b[38;5;21;01mrandom\u001b[39;00m \u001b[38;5;28;01mimport\u001b[39;00m randint\n\u001b[0;32m----> 6\u001b[0m randomUnitig \u001b[38;5;241m=\u001b[39m \u001b[43mazm_sr\u001b[49m\u001b[38;5;241;43m.\u001b[39;49m\u001b[43mcolumns\u001b[49m\u001b[43m[\u001b[49m\u001b[43mrandint\u001b[49m\u001b[43m(\u001b[49m\u001b[38;5;241;43m0\u001b[39;49m\u001b[43m,\u001b[49m\u001b[43mazm_sr\u001b[49m\u001b[38;5;241;43m.\u001b[39;49m\u001b[43mshape\u001b[49m\u001b[43m[\u001b[49m\u001b[38;5;241;43m0\u001b[39;49m\u001b[43m]\u001b[49m\u001b[43m)\u001b[49m\u001b[43m]\u001b[49m\n\u001b[1;32m      7\u001b[0m j \u001b[38;5;241m=\u001b[39m \u001b[38;5;241m0\u001b[39m\n\u001b[1;32m      8\u001b[0m \u001b[38;5;28mprint\u001b[39m(azm_sr\u001b[38;5;241m.\u001b[39mshape)\n",
      "File \u001b[0;32m~/.conda/envs/cse487-proj/lib/python3.12/site-packages/pandas/core/indexes/base.py:5389\u001b[0m, in \u001b[0;36mIndex.__getitem__\u001b[0;34m(self, key)\u001b[0m\n\u001b[1;32m   5386\u001b[0m \u001b[38;5;28;01mif\u001b[39;00m is_integer(key) \u001b[38;5;129;01mor\u001b[39;00m is_float(key):\n\u001b[1;32m   5387\u001b[0m     \u001b[38;5;66;03m# GH#44051 exclude bool, which would return a 2d ndarray\u001b[39;00m\n\u001b[1;32m   5388\u001b[0m     key \u001b[38;5;241m=\u001b[39m com\u001b[38;5;241m.\u001b[39mcast_scalar_indexer(key)\n\u001b[0;32m-> 5389\u001b[0m     \u001b[38;5;28;01mreturn\u001b[39;00m \u001b[43mgetitem\u001b[49m\u001b[43m(\u001b[49m\u001b[43mkey\u001b[49m\u001b[43m)\u001b[49m\n\u001b[1;32m   5391\u001b[0m \u001b[38;5;28;01mif\u001b[39;00m \u001b[38;5;28misinstance\u001b[39m(key, \u001b[38;5;28mslice\u001b[39m):\n\u001b[1;32m   5392\u001b[0m     \u001b[38;5;66;03m# This case is separated from the conditional above to avoid\u001b[39;00m\n\u001b[1;32m   5393\u001b[0m     \u001b[38;5;66;03m# pessimization com.is_bool_indexer and ndim checks.\u001b[39;00m\n\u001b[1;32m   5394\u001b[0m     \u001b[38;5;28;01mreturn\u001b[39;00m \u001b[38;5;28mself\u001b[39m\u001b[38;5;241m.\u001b[39m_getitem_slice(key)\n",
      "\u001b[0;31mIndexError\u001b[0m: index 554 is out of bounds for axis 0 with size 515"
     ]
    }
   ],
   "source": [
    "samples = azm_sr.index\n",
    "\n",
    "# some random unitig from azm_sr\n",
    "\n",
    "from random import randint\n",
    "randomUnitig = azm_sr.columns[randint(0,azm_sr.shape[1])]\n",
    "j = 0\n",
    "print(azm_sr.shape)\n",
    "for i in range(azm_sr.shape[0]):\n",
    "    if azm_sr[randomUnitig][samples[i]]:\n",
    "        j += 1\n",
    "\n",
    "print(randomUnitig,\"\\npresent in\", j/azm_sr.shape[0],\"% of azm_sr samples (\",j,\"/\",azm_sr.shape[0],')' )"
   ]
  }
 ],
 "metadata": {
  "kernelspec": {
   "display_name": "cse487-proj",
   "language": "python",
   "name": "python3"
  },
  "language_info": {
   "codemirror_mode": {
    "name": "ipython",
    "version": 3
   },
   "file_extension": ".py",
   "mimetype": "text/x-python",
   "name": "python",
   "nbconvert_exporter": "python",
   "pygments_lexer": "ipython3",
   "version": "3.12.1"
  }
 },
 "nbformat": 4,
 "nbformat_minor": 2
}

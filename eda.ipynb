{
 "cells": [
  {
   "cell_type": "code",
   "execution_count": 144,
   "metadata": {},
   "outputs": [],
   "source": [
    "import pandas as pd \n",
    "azm_sr = pd.read_csv(\"azm_sr_gwas_filtered_unitigs.Rtab\",sep=' ')\n",
    "azm_sr.set_index('pattern_id',inplace=True)\n",
    "azm_sr = azm_sr.T\n",
    "\n",
    "metadata = pd.read_csv('metadata.csv')\n",
    "metadata.set_index('Sample_ID',inplace=True)\n",
    "metadata = metadata.T"
   ]
  },
  {
   "cell_type": "code",
   "execution_count": 147,
   "metadata": {},
   "outputs": [
    {
     "name": "stdout",
     "output_type": "stream",
     "text": [
      "09_008\n"
     ]
    }
   ],
   "source": [
    "samples = azm_sr.index\n",
    "unitig = azm_sr['GTCTGATTTCACAAGTCTTGTGAAGTCTTACCTGCCTTACCGTCCAACATCCGCCGCAGCC']\n",
    "for i in range(len(unitig)):\n",
    "    if unitig[samples[i]]:\n",
    "        print(samples[i])"
   ]
  }
 ],
 "metadata": {
  "kernelspec": {
   "display_name": "cse487-proj",
   "language": "python",
   "name": "python3"
  },
  "language_info": {
   "codemirror_mode": {
    "name": "ipython",
    "version": 3
   },
   "file_extension": ".py",
   "mimetype": "text/x-python",
   "name": "python",
   "nbconvert_exporter": "python",
   "pygments_lexer": "ipython3",
   "version": "3.12.5"
  }
 },
 "nbformat": 4,
 "nbformat_minor": 2
}

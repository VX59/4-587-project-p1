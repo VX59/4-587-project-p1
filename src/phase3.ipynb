{
 "cells": [
  {
   "cell_type": "code",
   "execution_count": 2,
   "metadata": {},
   "outputs": [],
   "source": [
    "from pyspark.sql import SparkSession\n",
    "import pandas as pd\n",
    "from pyspark.sql import Row\n",
    "\n",
    "spark = SparkSession.builder.getOrCreate()"
   ]
  },
  {
   "cell_type": "markdown",
   "metadata": {},
   "source": [
    "### Import Data into SPARK Data Frame"
   ]
  },
  {
   "cell_type": "code",
   "execution_count": 3,
   "metadata": {},
   "outputs": [],
   "source": [
    "df = spark.read.csv('metadata.csv')"
   ]
  },
  {
   "cell_type": "code",
   "execution_count": 4,
   "metadata": {},
   "outputs": [
    {
     "name": "stdout",
     "output_type": "stream",
     "text": [
      "+----------+----+-------+---------+--------------+------------+-------------+-----------+--------+------------+----------+-------+-----+-------+-------+-------+-------+-------+-------+------------+------------+------------+------------+------------+------------+------+------+------+------+------+------+\n",
      "|       _c0| _c1|    _c2|      _c3|           _c4|         _c5|          _c6|        _c7|     _c8|         _c9|      _c10|   _c11| _c12|   _c13|   _c14|   _c15|   _c16|   _c17|   _c18|        _c19|        _c20|        _c21|        _c22|        _c23|        _c24|  _c25|  _c26|  _c27|  _c28|  _c29|  _c30|\n",
      "+----------+----+-------+---------+--------------+------------+-------------+-----------+--------+------------+----------+-------+-----+-------+-------+-------+-------+-------+-------+------------+------------+------------+------------+------------+------------+------+------+------+------+------+------+\n",
      "| Sample_ID|Year|Country|Continent|Beta.lactamase|Azithromycin|Ciprofloxacin|Ceftriaxone|Cefixime|Tetracycline|Penicillin|NG_MAST|Group|azm_mic|cip_mic|cro_mic|cfx_mic|tet_mic|pen_mic|log2_azm_mic|log2_cip_mic|log2_cro_mic|log2_cfx_mic|log2_tet_mic|log2_pen_mic|azm_sr|cip_sr|cro_sr|cfx_sr|tet_sr|pen_sr|\n",
      "|ERR1549286|2015|     UK|   Europe|          NULL|        >256|         NULL|      0.016|    NULL|        NULL|      NULL|   9768| 1058|    512|     NA|  0.016|     NA|     NA|     NA|           9|          NA|-5.965784285|          NA|          NA|          NA|     1|    NA|     0|    NA|    NA|    NA|\n",
      "|ERR1549290|2015|     UK|   Europe|          NULL|        >256|         NULL|      0.004|    NULL|        NULL|      NULL|   9768| 1058|    512|     NA|  0.004|     NA|     NA|     NA|           9|          NA|-7.965784285|          NA|          NA|          NA|     1|    NA|     0|    NA|    NA|    NA|\n",
      "|ERR1549291|2015|     UK|   Europe|          NULL|        >256|         NULL|      0.006|    NULL|        NULL|      NULL|   9768| 1058|    512|     NA|  0.006|     NA|     NA|     NA|           9|          NA|-7.380821784|          NA|          NA|          NA|     1|    NA|     0|    NA|    NA|    NA|\n",
      "|ERR1549287|2015|     UK|   Europe|          NULL|        >256|         NULL|      0.006|    NULL|        NULL|      NULL|   9768| 1058|    512|     NA|  0.006|     NA|     NA|     NA|           9|          NA|-7.380821784|          NA|          NA|          NA|     1|    NA|     0|    NA|    NA|    NA|\n",
      "|ERR1549288|2015|     UK|   Europe|          NULL|        >256|         NULL|      0.008|    NULL|        NULL|      NULL|   9768| 1058|    512|     NA|  0.008|     NA|     NA|     NA|           9|          NA|-6.965784285|          NA|          NA|          NA|     1|    NA|     0|    NA|    NA|    NA|\n",
      "|ERR1549299|2015|     UK|   Europe|          NULL|        >256|         NULL|      0.012|    NULL|        NULL|      NULL|     NA|    0|    512|     NA|  0.012|     NA|     NA|     NA|           9|          NA|-6.380821784|          NA|          NA|          NA|     1|    NA|     0|    NA|    NA|    NA|\n",
      "|ERR1549292|2015|     UK|   Europe|          NULL|        >256|         NULL|      0.023|    NULL|        NULL|      NULL|   9768| 1058|    512|     NA|  0.023|     NA|     NA|     NA|           9|          NA|-5.442222329|          NA|          NA|          NA|     1|    NA|     0|    NA|    NA|    NA|\n",
      "|ERR1549298|2015|     UK|   Europe|          NULL|         0.5|         NULL|      0.094|    NULL|        NULL|      NULL|     NA|    0|    0.5|     NA|  0.094|     NA|     NA|     NA|          -1|          NA|-3.411195433|          NA|          NA|          NA|     0|    NA|     0|    NA|    NA|    NA|\n",
      "|ERR1549296|2015|     UK|   Europe|          NULL|         0.5|         NULL|      0.094|    NULL|        NULL|      NULL|     NA|    0|    0.5|     NA|  0.094|     NA|     NA|     NA|          -1|          NA|-3.411195433|          NA|          NA|          NA|     0|    NA|     0|    NA|    NA|    NA|\n",
      "|ERR1549300|2015|     UK|   Europe|          NULL|        >256|         NULL|      0.008|    NULL|        NULL|      NULL|     NA|    0|    512|     NA|  0.008|     NA|     NA|     NA|           9|          NA|-6.965784285|          NA|          NA|          NA|     1|    NA|     0|    NA|    NA|    NA|\n",
      "|ERR1549295|2015|     UK|   Europe|          NULL|        0.75|         NULL|      0.094|    NULL|        NULL|      NULL|     NA|    0|   0.75|     NA|  0.094|     NA|     NA|     NA|-0.415037499|          NA|-3.411195433|          NA|          NA|          NA|     0|    NA|     0|    NA|    NA|    NA|\n",
      "|ERR1549294|2015|     UK|   Europe|          NULL|        0.75|         NULL|      0.094|    NULL|        NULL|      NULL|   1407|  127|   0.75|     NA|  0.094|     NA|     NA|     NA|-0.415037499|          NA|-3.411195433|          NA|          NA|          NA|     0|    NA|     0|    NA|    NA|    NA|\n",
      "|ERR1549289|2015|     UK|   Europe|          NULL|        0.75|         NULL|      0.094|    NULL|        NULL|      NULL|     NA|    0|   0.75|     NA|  0.094|     NA|     NA|     NA|-0.415037499|          NA|-3.411195433|          NA|          NA|          NA|     0|    NA|     0|    NA|    NA|    NA|\n",
      "|ERR1549293|2015|     UK|   Europe|          NULL|        >256|         NULL|      0.016|    NULL|        NULL|      NULL|  11836| 1059|    512|     NA|  0.016|     NA|     NA|     NA|           9|          NA|-5.965784285|          NA|          NA|          NA|     1|    NA|     0|    NA|    NA|    NA|\n",
      "|SRR1661154|1996| Canada|  America|          NULL|        0.25|          0.5|      0.125|   0.125|           2|         2|  10443|  672|   0.25|    0.5|  0.125|  0.125|      2|      2|          -2|          -1|          -3|          -3|           1|           1|     0|     0|     0|     0|     1|     1|\n",
      "|SRR1661156|1997| Canada|  America|          NULL|        0.25|           16|      0.125|   0.063|           2|         2|  10476|  675|   0.25|     16|  0.125|  0.063|      2|      2|          -2|           4|          -3|-3.988504361|           1|           1|     0|     1|     0|     0|     1|     1|\n",
      "|SRR1661157|1998| Canada|  America|          NULL|       0.125|        0.016|      0.125|   0.063|       >=128|         4|  10469|  674|  0.125|  0.016|  0.125|  0.063|    256|      4|          -3|-5.965784285|          -3|-3.988504361|           8|           2|     0|     0|     0|     0|     1|     1|\n",
      "|SRR1661158|2000| Canada|  America|          NULL|        0.25|          0.5|      0.125|    0.25|           4|         4|   4138|  846|   0.25|    0.5|  0.125|   0.25|      4|      4|          -2|          -1|          -3|          -2|           2|           2|     0|     0|     0|     0|     1|     1|\n",
      "|SRR1661159|2001| Canada|  America|          NULL|       0.063|        0.063|    0.00025|   0.001|         0.5|     0.008|      8|  411|  0.063|  0.063|0.00025|  0.001|    0.5|  0.008|-3.988504361|-3.988504361|-11.96578428|-9.965784285|          -1|-6.965784285|     0|     0|     0|     0|     0|     0|\n",
      "+----------+----+-------+---------+--------------+------------+-------------+-----------+--------+------------+----------+-------+-----+-------+-------+-------+-------+-------+-------+------------+------------+------------+------------+------------+------------+------+------+------+------+------+------+\n",
      "only showing top 20 rows\n",
      "\n"
     ]
    },
    {
     "name": "stderr",
     "output_type": "stream",
     "text": [
      "24/11/23 18:54:40 WARN SparkStringUtils: Truncated the string representation of a plan since it was too large. This behavior can be adjusted by setting 'spark.sql.debug.maxToStringFields'.\n"
     ]
    }
   ],
   "source": [
    "df.show()"
   ]
  },
  {
   "cell_type": "code",
   "execution_count": null,
   "metadata": {},
   "outputs": [],
   "source": []
  }
 ],
 "metadata": {
  "kernelspec": {
   "display_name": "587",
   "language": "python",
   "name": "python3"
  },
  "language_info": {
   "codemirror_mode": {
    "name": "ipython",
    "version": 3
   },
   "file_extension": ".py",
   "mimetype": "text/x-python",
   "name": "python",
   "nbconvert_exporter": "python",
   "pygments_lexer": "ipython3",
   "version": "3.10.15"
  }
 },
 "nbformat": 4,
 "nbformat_minor": 2
}
